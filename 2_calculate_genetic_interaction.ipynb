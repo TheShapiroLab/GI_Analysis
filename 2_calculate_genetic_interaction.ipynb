{
 "cells": [
  {
   "cell_type": "code",
   "execution_count": 1,
   "id": "158218bf",
   "metadata": {},
   "outputs": [],
   "source": [
    "###\n",
    "# This is a python notebook that is used to calculate the genetic interaction score of normalized OD data\n",
    "# Prepared by: Myra Paz Masinas, Boone Lab, University of Toronto, November 2023\n",
    "#\n",
    "# This executes procedure # 71 from the paper: Halder et. al. Design, execution, and analysis of CRISPR–Cas9-based \n",
    "# deletions and genetic interaction networks in the fungal pathogen Candida albicans. \n",
    "# Nat Protoc 14, 955–975 (2019). https://doi.org/10.1038/s41596-018-0122-6\n",
    "###"
   ]
  },
  {
   "cell_type": "code",
   "execution_count": 2,
   "id": "0683c225",
   "metadata": {},
   "outputs": [],
   "source": [
    "import pandas as pd\n",
    "import numpy as np"
   ]
  },
  {
   "cell_type": "markdown",
   "id": "37b722be",
   "metadata": {},
   "source": [
    "### user-defined variables - update this section as needed"
   ]
  },
  {
   "cell_type": "code",
   "execution_count": 3,
   "id": "27497ee8",
   "metadata": {},
   "outputs": [],
   "source": [
    "cdn = '15C'  # which condition to process - Change\n",
    "num_reps = 3  # number of replicates - Change\n",
    "\n",
    "main_dir = '/Users/violahalder/Desktop/GitHub_GI_Analysis'  # main directory path - Change\n",
    "gene_path = f'{main_dir}/files/geneNames.csv'  # path to geneNames.csv file - DO NOT CHANGE\n",
    "norm_path = f'{main_dir}/output/allData.csv'  # path to normalized allData.csv file - DO NOT CHANGE\n",
    "outpath = f'{main_dir}/output/{cdn}_fitness_and_eps.xlsx'  # path to expected output file - DO NOT CHANGE"
   ]
  },
  {
   "cell_type": "markdown",
   "id": "003a6289",
   "metadata": {},
   "source": [
    "### get gene list"
   ]
  },
  {
   "cell_type": "code",
   "execution_count": 4,
   "id": "d3c9c520",
   "metadata": {},
   "outputs": [],
   "source": [
    "df_genes = pd.read_csv(gene_path, header=None)\n",
    "genes = list(df_genes[1].values)"
   ]
  },
  {
   "cell_type": "code",
   "execution_count": 5,
   "id": "69e661bb",
   "metadata": {},
   "outputs": [],
   "source": [
    "lower_matrix = []\n",
    "single_genes = []\n",
    "combo_genes = []\n",
    "for idx, gene in enumerate(genes):\n",
    "    lower_matrix.append(gene)\n",
    "    single_genes.append(gene)\n",
    "    \n",
    "    for i in range(idx, -1, -1):\n",
    "        other_gene = genes[i]\n",
    "        if other_gene != gene:\n",
    "            lower_matrix.append(f'{gene}{other_gene}')\n",
    "            combo_genes.append(f'{gene}{other_gene}')"
   ]
  },
  {
   "cell_type": "markdown",
   "id": "396facfd",
   "metadata": {},
   "source": [
    "### load normalized values"
   ]
  },
  {
   "cell_type": "code",
   "execution_count": 6,
   "id": "bddad9ed",
   "metadata": {},
   "outputs": [
    {
     "data": {
      "text/html": [
       "<div>\n",
       "<style scoped>\n",
       "    .dataframe tbody tr th:only-of-type {\n",
       "        vertical-align: middle;\n",
       "    }\n",
       "\n",
       "    .dataframe tbody tr th {\n",
       "        vertical-align: top;\n",
       "    }\n",
       "\n",
       "    .dataframe thead th {\n",
       "        text-align: right;\n",
       "    }\n",
       "</style>\n",
       "<table border=\"1\" class=\"dataframe\">\n",
       "  <thead>\n",
       "    <tr style=\"text-align: right;\">\n",
       "      <th></th>\n",
       "      <th>Genes</th>\n",
       "      <th>15C_R1_lower</th>\n",
       "      <th>15C_R1_upper</th>\n",
       "      <th>15C_R2_lower</th>\n",
       "      <th>15C_R2_upper</th>\n",
       "      <th>15C_R3_lower</th>\n",
       "      <th>15C_R3_upper</th>\n",
       "      <th>No Treatment_R1_lower</th>\n",
       "      <th>No Treatment_R1_upper</th>\n",
       "      <th>No Treatment_R2_lower</th>\n",
       "      <th>No Treatment_R2_upper</th>\n",
       "      <th>No Treatment_R3_lower</th>\n",
       "      <th>No Treatment_R3_upper</th>\n",
       "    </tr>\n",
       "  </thead>\n",
       "  <tbody>\n",
       "    <tr>\n",
       "      <th>0</th>\n",
       "      <td>CAT1</td>\n",
       "      <td>1.427808</td>\n",
       "      <td>1.427808</td>\n",
       "      <td>1.379058</td>\n",
       "      <td>1.379058</td>\n",
       "      <td>1.347524</td>\n",
       "      <td>1.347524</td>\n",
       "      <td>1.023405</td>\n",
       "      <td>1.023405</td>\n",
       "      <td>0.946744</td>\n",
       "      <td>0.946744</td>\n",
       "      <td>1.008417</td>\n",
       "      <td>1.008417</td>\n",
       "    </tr>\n",
       "    <tr>\n",
       "      <th>1</th>\n",
       "      <td>C7_00810W_A</td>\n",
       "      <td>0.013299</td>\n",
       "      <td>0.013299</td>\n",
       "      <td>0.234342</td>\n",
       "      <td>0.234342</td>\n",
       "      <td>0.108178</td>\n",
       "      <td>0.108178</td>\n",
       "      <td>1.080044</td>\n",
       "      <td>1.080044</td>\n",
       "      <td>1.000714</td>\n",
       "      <td>1.000714</td>\n",
       "      <td>1.001256</td>\n",
       "      <td>1.001256</td>\n",
       "    </tr>\n",
       "  </tbody>\n",
       "</table>\n",
       "</div>"
      ],
      "text/plain": [
       "         Genes  15C_R1_lower  15C_R1_upper  15C_R2_lower  15C_R2_upper  \\\n",
       "0         CAT1      1.427808      1.427808      1.379058      1.379058   \n",
       "1  C7_00810W_A      0.013299      0.013299      0.234342      0.234342   \n",
       "\n",
       "   15C_R3_lower  15C_R3_upper  No Treatment_R1_lower  No Treatment_R1_upper  \\\n",
       "0      1.347524      1.347524               1.023405               1.023405   \n",
       "1      0.108178      0.108178               1.080044               1.080044   \n",
       "\n",
       "   No Treatment_R2_lower  No Treatment_R2_upper  No Treatment_R3_lower  \\\n",
       "0               0.946744               0.946744               1.008417   \n",
       "1               1.000714               1.000714               1.001256   \n",
       "\n",
       "   No Treatment_R3_upper  \n",
       "0               1.008417  \n",
       "1               1.001256  "
      ]
     },
     "execution_count": 6,
     "metadata": {},
     "output_type": "execute_result"
    }
   ],
   "source": [
    "df_norm = pd.read_csv(norm_path)\n",
    "df_norm.rename(columns={'Unnamed: 0': 'Genes'}, inplace=True)\n",
    "df_norm[:2]"
   ]
  },
  {
   "cell_type": "markdown",
   "id": "e8fa9f2e",
   "metadata": {},
   "source": [
    "### compile fitness scores and calculate GI scores for each gene pair and replicate"
   ]
  },
  {
   "cell_type": "code",
   "execution_count": 7,
   "id": "bb62ceaf",
   "metadata": {},
   "outputs": [],
   "source": [
    "final_cols = ['Gene_X', 'Gene_Y', 'Fitness_X', 'Fitness_Y', 'Fitness_XY', 'Fitness_YX', 'EPS_XY', 'EPS_YX']\n",
    "final_data = {}\n",
    "rep_data = {}\n",
    "\n",
    "for rep in range(1, num_reps+1):\n",
    "    final_data[f'R{rep}'] = {c: [] for c in final_cols}\n",
    "    \n",
    "    for gene_xy in lower_matrix:\n",
    "        if gene_xy in combo_genes:\n",
    "            for g in single_genes:\n",
    "                if gene_xy.startswith(g):\n",
    "                    gene_x = g\n",
    "                    gene_y = gene_xy.split(g)[1]\n",
    "\n",
    "            # lower matrix: XY\n",
    "            fit_x =  df_norm[df_norm['Genes']==gene_x][f'{cdn}_R{rep}_lower'].values[0]\n",
    "            fit_y =  df_norm[df_norm['Genes']==gene_y][f'{cdn}_R{rep}_lower'].values[0]\n",
    "            fit_xy = df_norm[df_norm['Genes']==gene_xy][f'{cdn}_R{rep}_lower'].values[0]\n",
    "            eps_xy = fit_xy - (fit_x * fit_y)\n",
    "\n",
    "            # upper matrix: YX\n",
    "            fit_yx = df_norm[df_norm['Genes']==gene_xy][f'{cdn}_R{rep}_upper'].values[0]\n",
    "            eps_yx = fit_yx - (fit_x * fit_y)\n",
    "            \n",
    "            final_data[f'R{rep}']['Gene_X'].append(gene_x)\n",
    "            final_data[f'R{rep}']['Gene_Y'].append(gene_y)\n",
    "            final_data[f'R{rep}']['Fitness_X'].append(fit_x)\n",
    "            final_data[f'R{rep}']['Fitness_Y'].append(fit_y)\n",
    "            final_data[f'R{rep}']['Fitness_XY'].append(fit_xy)\n",
    "            final_data[f'R{rep}']['Fitness_YX'].append(fit_yx)\n",
    "            final_data[f'R{rep}']['EPS_XY'].append(eps_xy)\n",
    "            final_data[f'R{rep}']['EPS_YX'].append(eps_yx)\n",
    "            \n",
    "            # compile eps data for averaging\n",
    "            if (gene_x, gene_y) not in rep_data:\n",
    "                rep_data[(gene_x, gene_y)] = {'Fitness_X': [fit_x], 'Fitness_Y': [fit_y],\n",
    "                                              'Fitness_XY': [fit_xy], 'Fitness_YX': [fit_yx],\n",
    "                                              'EPS_XY': [eps_xy], 'EPS_YX': [eps_yx]}\n",
    "            else:\n",
    "                rep_data[(gene_x, gene_y)]['Fitness_X'].append(fit_x)\n",
    "                rep_data[(gene_x, gene_y)]['Fitness_Y'].append(fit_y)\n",
    "                rep_data[(gene_x, gene_y)]['Fitness_XY'].append(fit_xy)\n",
    "                rep_data[(gene_x, gene_y)]['Fitness_YX'].append(fit_yx)\n",
    "                rep_data[(gene_x, gene_y)]['EPS_XY'].append(eps_xy)\n",
    "                rep_data[(gene_x, gene_y)]['EPS_YX'].append(eps_yx)\n",
    "            \n",
    "            \n",
    "            #print(f'X: {gene_x}  Y: {gene_y}  Rep: {rep}   XY: {fit_xy:.2f}  YX: {fit_yx:.2f} X: {fit_x:.2f}  Y: {fit_y:.2f} EPS_XY: {eps_xy:.2f} EPS_YX: {eps_yx:.2f}') # Can uncomment if you would like to see the values\n",
    "#         break"
   ]
  },
  {
   "cell_type": "markdown",
   "id": "6d5f589d",
   "metadata": {},
   "source": [
    "### get average data"
   ]
  },
  {
   "cell_type": "code",
   "execution_count": 8,
   "id": "c9d39f30",
   "metadata": {},
   "outputs": [],
   "source": [
    "avg_data = {}\n",
    "for key, values in rep_data.items():\n",
    "    avg_data[key] = {'Fitness_X': np.mean(values['Fitness_X']), 'Fitness_Y': np.mean(values['Fitness_Y']),\n",
    "                     'Fitness_XY': np.mean(values['Fitness_XY']), 'Fitness_YX': np.mean(values['Fitness_YX']),\n",
    "                     'EPS_XY': np.mean(values['EPS_XY']), 'EPS_YX': np.mean(values['EPS_YX'])}"
   ]
  },
  {
   "cell_type": "code",
   "execution_count": 9,
   "id": "1b32467a",
   "metadata": {},
   "outputs": [
    {
     "data": {
      "text/html": [
       "<div>\n",
       "<style scoped>\n",
       "    .dataframe tbody tr th:only-of-type {\n",
       "        vertical-align: middle;\n",
       "    }\n",
       "\n",
       "    .dataframe tbody tr th {\n",
       "        vertical-align: top;\n",
       "    }\n",
       "\n",
       "    .dataframe thead th {\n",
       "        text-align: right;\n",
       "    }\n",
       "</style>\n",
       "<table border=\"1\" class=\"dataframe\">\n",
       "  <thead>\n",
       "    <tr style=\"text-align: right;\">\n",
       "      <th></th>\n",
       "      <th>Gene_X</th>\n",
       "      <th>Gene_Y</th>\n",
       "      <th>Fitness_X</th>\n",
       "      <th>Fitness_Y</th>\n",
       "      <th>Fitness_XY</th>\n",
       "      <th>Fitness_YX</th>\n",
       "      <th>EPS_XY</th>\n",
       "      <th>EPS_YX</th>\n",
       "      <th>Average_Fitness_XY_Fitness_YX</th>\n",
       "      <th>Average_EPS_XY_EPS_YX</th>\n",
       "    </tr>\n",
       "  </thead>\n",
       "  <tbody>\n",
       "    <tr>\n",
       "      <th>0</th>\n",
       "      <td>TYE7</td>\n",
       "      <td>CAT1</td>\n",
       "      <td>0.432315</td>\n",
       "      <td>1.384797</td>\n",
       "      <td>0.437915</td>\n",
       "      <td>0.534644</td>\n",
       "      <td>-0.154163</td>\n",
       "      <td>-0.057433</td>\n",
       "      <td>0.486279</td>\n",
       "      <td>-0.105798</td>\n",
       "    </tr>\n",
       "    <tr>\n",
       "      <th>1</th>\n",
       "      <td>YAK1</td>\n",
       "      <td>TYE7</td>\n",
       "      <td>1.044491</td>\n",
       "      <td>0.432315</td>\n",
       "      <td>0.527271</td>\n",
       "      <td>0.638989</td>\n",
       "      <td>0.043667</td>\n",
       "      <td>0.155385</td>\n",
       "      <td>0.583130</td>\n",
       "      <td>0.099526</td>\n",
       "    </tr>\n",
       "  </tbody>\n",
       "</table>\n",
       "</div>"
      ],
      "text/plain": [
       "  Gene_X Gene_Y  Fitness_X  Fitness_Y  Fitness_XY  Fitness_YX    EPS_XY  \\\n",
       "0   TYE7   CAT1   0.432315   1.384797    0.437915    0.534644 -0.154163   \n",
       "1   YAK1   TYE7   1.044491   0.432315    0.527271    0.638989  0.043667   \n",
       "\n",
       "     EPS_YX  Average_Fitness_XY_Fitness_YX  Average_EPS_XY_EPS_YX  \n",
       "0 -0.057433                       0.486279              -0.105798  \n",
       "1  0.155385                       0.583130               0.099526  "
      ]
     },
     "execution_count": 9,
     "metadata": {},
     "output_type": "execute_result"
    }
   ],
   "source": [
    "df_avg = pd.DataFrame.from_dict(avg_data, orient='index').reset_index()\n",
    "df_avg.columns = final_cols\n",
    "df_avg['Average_Fitness_XY_Fitness_YX'] = df_avg[['Fitness_XY', 'Fitness_YX']].mean(axis=1)\n",
    "df_avg['Average_EPS_XY_EPS_YX'] = df_avg[['EPS_XY', 'EPS_YX']].mean(axis=1)\n",
    "df_avg[:2] # Can change the number to see more columns"
   ]
  },
  {
   "cell_type": "markdown",
   "id": "57c9cd62",
   "metadata": {},
   "source": [
    "### save to output file"
   ]
  },
  {
   "cell_type": "code",
   "execution_count": 10,
   "id": "93a96811",
   "metadata": {},
   "outputs": [
    {
     "name": "stdout",
     "output_type": "stream",
     "text": [
      "Saved /Users/violahalder/Desktop/GitHub_GI_Analysis/output/15C_fitness_and_eps.xlsx\n"
     ]
    }
   ],
   "source": [
    "# save dataframes to excel - one sheet per replicate\n",
    "df_reps = {}\n",
    "for rep in range(1, num_reps+1):\n",
    "    df_reps[f'R{rep}'] = pd.DataFrame.from_dict(final_data[f'R{rep}'])\n",
    "    \n",
    "writer = pd.ExcelWriter(outpath, engine=\"xlsxwriter\")\n",
    "\n",
    "for rep in range(1, num_reps+1):\n",
    "    df_reps[f'R{rep}'].to_excel(writer, sheet_name=f'R{rep}', index=False)\n",
    "\n",
    "df_avg.to_excel(writer, sheet_name=\"Average\", index=False)\n",
    "writer.close()\n",
    "print(f'Saved {outpath}') # Tells you where this files is saved"
   ]
  },
  {
   "cell_type": "code",
   "execution_count": 11,
   "id": "342d79ef",
   "metadata": {},
   "outputs": [
    {
     "name": "stdout",
     "output_type": "stream",
     "text": [
      "ALL DONE\n"
     ]
    }
   ],
   "source": [
    "print(\"ALL DONE\")"
   ]
  }
 ],
 "metadata": {
  "authors": [
   {
    "name": "Myra Paz Masinas"
   }
  ],
  "kernelspec": {
   "display_name": "Python 3 (ipykernel)",
   "language": "python",
   "name": "python3"
  },
  "language_info": {
   "codemirror_mode": {
    "name": "ipython",
    "version": 3
   },
   "file_extension": ".py",
   "mimetype": "text/x-python",
   "name": "python",
   "nbconvert_exporter": "python",
   "pygments_lexer": "ipython3",
   "version": "3.11.5"
  },
  "title": "Calculate Genetic Interaction Score"
 },
 "nbformat": 4,
 "nbformat_minor": 5
}
