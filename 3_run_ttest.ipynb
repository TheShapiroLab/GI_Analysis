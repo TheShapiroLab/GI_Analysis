{
 "cells": [
  {
   "cell_type": "code",
   "execution_count": 1,
   "id": "0cfc9e2d",
   "metadata": {},
   "outputs": [],
   "source": [
    "###\n",
    "# This is a python notebook that is used to run t-test and calculate the p-values of the fitness scores\n",
    "# Prepared by: Myra Paz Masinas, Boone Lab, University of Toronto, November 2023\n",
    "#\n",
    "# This executes procedure # 72 from the paper: Halder et. al. Design, execution, and analysis of CRISPR–Cas9-based \n",
    "# deletions and genetic interaction networks in the fungal pathogen Candida albicans. \n",
    "# Nat Protoc 14, 955–975 (2019). https://doi.org/10.1038/s41596-018-0122-6\n",
    "###"
   ]
  },
  {
   "cell_type": "code",
   "execution_count": 2,
   "id": "b6bee505",
   "metadata": {},
   "outputs": [],
   "source": [
    "from scipy.stats import ttest_ind as ttest #false_discovery_control\n",
    "from statsmodels.stats.multitest import fdrcorrection, multipletests\n",
    "import pandas as pd\n",
    "import numpy as np"
   ]
  },
  {
   "cell_type": "markdown",
   "id": "a49f5695",
   "metadata": {},
   "source": [
    "### user-defined variables - update this section as needed"
   ]
  },
  {
   "cell_type": "code",
   "execution_count": 3,
   "id": "5532819f",
   "metadata": {},
   "outputs": [],
   "source": [
    "cdn = '15C'  # which condition to process - Change\n",
    "num_reps = 3  # number of replicates - Change\n",
    "\n",
    "main_dir = '/Users/violahalder/Desktop/GitHub_GI_Analysis'  # main directory path - Change\n",
    "eps_path = f'{main_dir}/output/{cdn}_fitness_and_eps.xlsx'  # path to [cdn]_fitness_and_eps.csv file - DO NOT CHANGE\n",
    "\n",
    "# path to output files\n",
    "outpath_compiled = f'{main_dir}/output/{cdn}_pvalue_compiled.csv'"
   ]
  },
  {
   "cell_type": "markdown",
   "id": "014afad7",
   "metadata": {},
   "source": [
    "### load data per replicate"
   ]
  },
  {
   "cell_type": "code",
   "execution_count": 4,
   "id": "bf15852c",
   "metadata": {},
   "outputs": [
    {
     "name": "stdout",
     "output_type": "stream",
     "text": [
      "R1 - all: 630   exp_vs_XY: 516   exp_vs_YX: 471   actual_XY_vx_YX: 391\n",
      "R2 - all: 630   exp_vs_XY: 516   exp_vs_YX: 471   actual_XY_vx_YX: 391\n",
      "R3 - all: 630   exp_vs_XY: 516   exp_vs_YX: 471   actual_XY_vx_YX: 391\n"
     ]
    }
   ],
   "source": [
    "genes_data = {}\n",
    "cols = ['Fitness_XY', 'Fitness_YX', 'Fitness_X_Y']\n",
    "  \n",
    "data_exp_vs_actual_XY = [] # drop rows with missing/NaN XY values\n",
    "data_exp_vs_actual_YX = [] # drop rows with missing/NaN YX values\n",
    "data_actual_XY_vs_YX = [] # drop rows with missing/NaN XY and YX values\n",
    "for r in range(1, num_reps+1):\n",
    "    df_rep = pd.read_excel(eps_path, sheet_name=f'R{r}')\n",
    "    \n",
    "    # compile fitness scores per gene combination\n",
    "    for gene_x, gene_y, _, _, _, _, _, _ in df_rep.itertuples(index=False):\n",
    "        if (gene_x, gene_y) not in genes_data:\n",
    "            genes_data[(gene_x, gene_y)] = {c: [] for c in cols}\n",
    "            \n",
    "        data_gene_combo = df_rep[((df_rep['Gene_X']==gene_x) & (df_rep['Gene_Y']==gene_y))]\n",
    "        fitness_x = data_gene_combo['Fitness_X'].values[0]\n",
    "        fitness_y = data_gene_combo['Fitness_Y'].values[0]\n",
    "        genes_data[(gene_x, gene_y)]['Fitness_X_Y'].append(fitness_x*fitness_y)\n",
    "        genes_data[(gene_x, gene_y)]['Fitness_XY'].append(data_gene_combo['Fitness_XY'].values[0])\n",
    "        genes_data[(gene_x, gene_y)]['Fitness_YX'].append(data_gene_combo['Fitness_YX'].values[0])\n",
    "    \n",
    "    data_exp_vs_actual_XY.append(df_rep.dropna(subset=['Fitness_XY']).reset_index(drop=True))\n",
    "    data_exp_vs_actual_YX.append(df_rep.dropna(subset=['Fitness_YX']).reset_index(drop=True))\n",
    "    data_actual_XY_vs_YX.append(df_rep.dropna(subset=['Fitness_XY', 'Fitness_YX']).reset_index(drop=True))\n",
    "    print(f'R{r} - all: {df_rep.shape[0]}   exp_vs_XY: {data_exp_vs_actual_XY[r-1].shape[0]}   exp_vs_YX: {data_exp_vs_actual_YX[r-1].shape[0]}   actual_XY_vx_YX: {data_actual_XY_vs_YX[r-1].shape[0]}')"
   ]
  },
  {
   "cell_type": "markdown",
   "id": "f6bd4597",
   "metadata": {},
   "source": [
    "### run t-test: experimental vs actual XY"
   ]
  },
  {
   "cell_type": "code",
   "execution_count": 5,
   "id": "3f55f655",
   "metadata": {},
   "outputs": [
    {
     "data": {
      "text/html": [
       "<div>\n",
       "<style scoped>\n",
       "    .dataframe tbody tr th:only-of-type {\n",
       "        vertical-align: middle;\n",
       "    }\n",
       "\n",
       "    .dataframe tbody tr th {\n",
       "        vertical-align: top;\n",
       "    }\n",
       "\n",
       "    .dataframe thead th {\n",
       "        text-align: right;\n",
       "    }\n",
       "</style>\n",
       "<table border=\"1\" class=\"dataframe\">\n",
       "  <thead>\n",
       "    <tr style=\"text-align: right;\">\n",
       "      <th></th>\n",
       "      <th>Gene_X</th>\n",
       "      <th>Gene_Y</th>\n",
       "      <th>P-value (exp_vs_XY)</th>\n",
       "      <th>P-value adj (exp_vs_XY)</th>\n",
       "    </tr>\n",
       "  </thead>\n",
       "  <tbody>\n",
       "    <tr>\n",
       "      <th>0</th>\n",
       "      <td>TYE7</td>\n",
       "      <td>CAT1</td>\n",
       "      <td>0.584094</td>\n",
       "      <td>0.758274</td>\n",
       "    </tr>\n",
       "  </tbody>\n",
       "</table>\n",
       "</div>"
      ],
      "text/plain": [
       "  Gene_X Gene_Y  P-value (exp_vs_XY)  P-value adj (exp_vs_XY)\n",
       "0   TYE7   CAT1             0.584094                 0.758274"
      ]
     },
     "execution_count": 5,
     "metadata": {},
     "output_type": "execute_result"
    }
   ],
   "source": [
    "pval_data = {'Gene_X': [], 'Gene_Y': [], 'P-value (exp_vs_XY)': []}\n",
    "for gene_x, gene_y, _, _, _, _, _, _ in data_exp_vs_actual_XY[0].itertuples(index=False):\n",
    "    gene_combo = (gene_x, gene_y)\n",
    "    values = genes_data[gene_combo]\n",
    "    A = np.array(values['Fitness_X_Y'])\n",
    "    B = np.array(values['Fitness_XY'])\n",
    "    ttest_res = ttest(A, B)\n",
    "    pval_data['Gene_X'].append(gene_combo[0])\n",
    "    pval_data['Gene_Y'].append(gene_combo[1])\n",
    "    pval_data['P-value (exp_vs_XY)'].append(ttest_res.pvalue)\n",
    "    # print(f'{gene_combo} \\n A: {A}\\n B: {B} \\n p value: {ttest_res.pvalue}') # uncomment for dubugging\n",
    "\n",
    "# convert to dataframe\n",
    "df_pval_exp_vs_actual_XY = pd.DataFrame.from_dict(pval_data)\n",
    "\n",
    "# get p-value adjusted\n",
    "pvalues = df_pval_exp_vs_actual_XY['P-value (exp_vs_XY)']\n",
    "pvalues_adjusted_out = fdrcorrection(pvalues, method='indep') # options for method: 'indep' or 'poscorr'\n",
    "pvalues_adjusted = pvalues_adjusted_out[1]\n",
    "df_pval_exp_vs_actual_XY['P-value adj (exp_vs_XY)'] = pvalues_adjusted\n",
    "\n",
    "# print(f'df_pval_exp_vs_actual_XY: {df_pval_exp_vs_actual_XY.shape[0]}') # uncomment for dubugging\n",
    "df_pval_exp_vs_actual_XY[:1]"
   ]
  },
  {
   "cell_type": "markdown",
   "id": "ca4584db",
   "metadata": {},
   "source": [
    "### run t-test: experimental vs actual YX"
   ]
  },
  {
   "cell_type": "code",
   "execution_count": 6,
   "id": "e5a1fe2f",
   "metadata": {
    "scrolled": true
   },
   "outputs": [
    {
     "name": "stdout",
     "output_type": "stream",
     "text": [
      "df_pval_exp_vs_actual_YX: 471\n"
     ]
    },
    {
     "data": {
      "text/html": [
       "<div>\n",
       "<style scoped>\n",
       "    .dataframe tbody tr th:only-of-type {\n",
       "        vertical-align: middle;\n",
       "    }\n",
       "\n",
       "    .dataframe tbody tr th {\n",
       "        vertical-align: top;\n",
       "    }\n",
       "\n",
       "    .dataframe thead th {\n",
       "        text-align: right;\n",
       "    }\n",
       "</style>\n",
       "<table border=\"1\" class=\"dataframe\">\n",
       "  <thead>\n",
       "    <tr style=\"text-align: right;\">\n",
       "      <th></th>\n",
       "      <th>Gene_X</th>\n",
       "      <th>Gene_Y</th>\n",
       "      <th>P-value (exp_vs_YX)</th>\n",
       "      <th>P-value adj (exp_vs_YX)</th>\n",
       "    </tr>\n",
       "  </thead>\n",
       "  <tbody>\n",
       "    <tr>\n",
       "      <th>0</th>\n",
       "      <td>TYE7</td>\n",
       "      <td>CAT1</td>\n",
       "      <td>0.788421</td>\n",
       "      <td>0.869664</td>\n",
       "    </tr>\n",
       "  </tbody>\n",
       "</table>\n",
       "</div>"
      ],
      "text/plain": [
       "  Gene_X Gene_Y  P-value (exp_vs_YX)  P-value adj (exp_vs_YX)\n",
       "0   TYE7   CAT1             0.788421                 0.869664"
      ]
     },
     "execution_count": 6,
     "metadata": {},
     "output_type": "execute_result"
    }
   ],
   "source": [
    "pval_data = {'Gene_X': [], 'Gene_Y': [], 'P-value (exp_vs_YX)': []}\n",
    "for gene_x, gene_y, _, _, _, _, _, _ in data_exp_vs_actual_YX[0].itertuples(index=False):\n",
    "    gene_combo = (gene_x, gene_y)\n",
    "    values = genes_data[gene_combo]\n",
    "    A = np.array(values['Fitness_X_Y'])\n",
    "    B = np.array(values['Fitness_YX'])\n",
    "    ttest_res = ttest(A, B)\n",
    "    pval_data['Gene_X'].append(gene_combo[0])\n",
    "    pval_data['Gene_Y'].append(gene_combo[1])\n",
    "    pval_data['P-value (exp_vs_YX)'].append(ttest_res.pvalue)\n",
    "    #print(f'{gene_combo} \\n A: {A}\\n B: {B} \\n p value: {ttest_res.pvalue}') # Uncomment to debug\n",
    "\n",
    "# convert to dataframe\n",
    "df_pval_exp_vs_actual_YX = pd.DataFrame.from_dict(pval_data)\n",
    "\n",
    "# get p-value adjusted\n",
    "pvalues = df_pval_exp_vs_actual_YX['P-value (exp_vs_YX)']\n",
    "pvalues_adjusted_out = fdrcorrection(pvalues, method='indep')\n",
    "pvalues_adjusted = pvalues_adjusted_out[1]\n",
    "df_pval_exp_vs_actual_YX['P-value adj (exp_vs_YX)'] = pvalues_adjusted\n",
    "\n",
    "print(f'df_pval_exp_vs_actual_YX: {df_pval_exp_vs_actual_YX.shape[0]}')\n",
    "df_pval_exp_vs_actual_YX[:1] # change the number to see more rows of data here"
   ]
  },
  {
   "cell_type": "code",
   "execution_count": null,
   "id": "7c56a359",
   "metadata": {},
   "outputs": [],
   "source": []
  },
  {
   "cell_type": "markdown",
   "id": "64002cdd",
   "metadata": {},
   "source": [
    "### run t-test: experimental vs AVG of actual XY and YX"
   ]
  },
  {
   "cell_type": "code",
   "execution_count": 7,
   "id": "16494cbb",
   "metadata": {
    "scrolled": false
   },
   "outputs": [
    {
     "name": "stdout",
     "output_type": "stream",
     "text": [
      "df_pval_exp_vs_avg_actual_XY_YX: 596\n"
     ]
    },
    {
     "data": {
      "text/html": [
       "<div>\n",
       "<style scoped>\n",
       "    .dataframe tbody tr th:only-of-type {\n",
       "        vertical-align: middle;\n",
       "    }\n",
       "\n",
       "    .dataframe tbody tr th {\n",
       "        vertical-align: top;\n",
       "    }\n",
       "\n",
       "    .dataframe thead th {\n",
       "        text-align: right;\n",
       "    }\n",
       "</style>\n",
       "<table border=\"1\" class=\"dataframe\">\n",
       "  <thead>\n",
       "    <tr style=\"text-align: right;\">\n",
       "      <th></th>\n",
       "      <th>Gene_X</th>\n",
       "      <th>Gene_Y</th>\n",
       "      <th>P-value (exp_vs_average_XY_YX)</th>\n",
       "      <th>P-value adj (exp_vs_average_XY_YX)</th>\n",
       "    </tr>\n",
       "  </thead>\n",
       "  <tbody>\n",
       "    <tr>\n",
       "      <th>0</th>\n",
       "      <td>TYE7</td>\n",
       "      <td>CAT1</td>\n",
       "      <td>0.570173</td>\n",
       "      <td>0.712187</td>\n",
       "    </tr>\n",
       "    <tr>\n",
       "      <th>1</th>\n",
       "      <td>YAK1</td>\n",
       "      <td>TYE7</td>\n",
       "      <td>0.556516</td>\n",
       "      <td>0.703339</td>\n",
       "    </tr>\n",
       "  </tbody>\n",
       "</table>\n",
       "</div>"
      ],
      "text/plain": [
       "  Gene_X Gene_Y  P-value (exp_vs_average_XY_YX)  \\\n",
       "0   TYE7   CAT1                        0.570173   \n",
       "1   YAK1   TYE7                        0.556516   \n",
       "\n",
       "   P-value adj (exp_vs_average_XY_YX)  \n",
       "0                            0.712187  \n",
       "1                            0.703339  "
      ]
     },
     "execution_count": 7,
     "metadata": {},
     "output_type": "execute_result"
    }
   ],
   "source": [
    "pval_data = {'Gene_X': [], 'Gene_Y': [], 'P-value (exp_vs_average_XY_YX)': []}\n",
    "for gene_x, gene_y, _, _, _, _, _, _ in df_rep.itertuples(index=False):\n",
    "    gene_combo = (gene_x, gene_y)\n",
    "    values = genes_data[gene_combo]\n",
    "    values_actual_XY = values['Fitness_XY']\n",
    "    values_actual_YX = values['Fitness_YX']\n",
    "    \n",
    "    A = np.array(values['Fitness_X_Y'])\n",
    "    if np.any(np.isnan(values_actual_XY)) and np.any(np.isnan(values_actual_YX)): \n",
    "        continue # skip gene combo\n",
    "    elif np.any(np.isnan(values_actual_XY)):\n",
    "        B = np.array(values_actual_YX)\n",
    "    elif np.any(np.isnan(values_actual_YX)):\n",
    "        B = np.array(values_actual_XY)\n",
    "    else:\n",
    "        B = np.array(values_actual_XY + values_actual_YX)\n",
    "    ttest_res = ttest(A, B)\n",
    "\n",
    "    #print(f'{gene_combo} \\n A: {A}\\n B: {B} \\n p value: {ttest_res.pvalue}') # Uncomment to debug\n",
    "    \n",
    "    pval_data['Gene_X'].append(gene_combo[0])\n",
    "    pval_data['Gene_Y'].append(gene_combo[1])\n",
    "    pval_data['P-value (exp_vs_average_XY_YX)'].append(ttest_res.pvalue)\n",
    "    #print(f'{gene_combo} — p value: {ttest_res.pvalue}') # Uncomment to debug\n",
    "\n",
    "# convert to dataframe\n",
    "df_pval_exp_vs_avg_actual_XY_YX = pd.DataFrame.from_dict(pval_data)\n",
    "\n",
    "# get p-value adjusted\n",
    "pvalues = df_pval_exp_vs_avg_actual_XY_YX['P-value (exp_vs_average_XY_YX)']\n",
    "pvalues_adjusted_out = fdrcorrection(pvalues, method='indep')\n",
    "pvalues_adjusted = pvalues_adjusted_out[1]\n",
    "df_pval_exp_vs_avg_actual_XY_YX['P-value adj (exp_vs_average_XY_YX)'] = pvalues_adjusted\n",
    "\n",
    "print(f'df_pval_exp_vs_avg_actual_XY_YX: {df_pval_exp_vs_avg_actual_XY_YX.shape[0]}')\n",
    "df_pval_exp_vs_avg_actual_XY_YX[:2] # change the number to see more rows of data here"
   ]
  },
  {
   "cell_type": "code",
   "execution_count": 8,
   "id": "b687188e",
   "metadata": {},
   "outputs": [
    {
     "data": {
      "text/plain": [
       "(596, 4)"
      ]
     },
     "execution_count": 8,
     "metadata": {},
     "output_type": "execute_result"
    }
   ],
   "source": [
    "df_pval_exp_vs_avg_actual_XY_YX.shape"
   ]
  },
  {
   "cell_type": "markdown",
   "id": "42b4d13a",
   "metadata": {},
   "source": [
    "### check for significant data"
   ]
  },
  {
   "cell_type": "code",
   "execution_count": 9,
   "id": "7d618d7e",
   "metadata": {},
   "outputs": [
    {
     "name": "stdout",
     "output_type": "stream",
     "text": [
      "df_significant: 630\n"
     ]
    },
    {
     "data": {
      "text/html": [
       "<div>\n",
       "<style scoped>\n",
       "    .dataframe tbody tr th:only-of-type {\n",
       "        vertical-align: middle;\n",
       "    }\n",
       "\n",
       "    .dataframe tbody tr th {\n",
       "        vertical-align: top;\n",
       "    }\n",
       "\n",
       "    .dataframe thead th {\n",
       "        text-align: right;\n",
       "    }\n",
       "</style>\n",
       "<table border=\"1\" class=\"dataframe\">\n",
       "  <thead>\n",
       "    <tr style=\"text-align: right;\">\n",
       "      <th></th>\n",
       "      <th>Gene_X</th>\n",
       "      <th>Gene_Y</th>\n",
       "      <th>Significant</th>\n",
       "    </tr>\n",
       "  </thead>\n",
       "  <tbody>\n",
       "    <tr>\n",
       "      <th>0</th>\n",
       "      <td>TYE7</td>\n",
       "      <td>CAT1</td>\n",
       "      <td>0.0</td>\n",
       "    </tr>\n",
       "  </tbody>\n",
       "</table>\n",
       "</div>"
      ],
      "text/plain": [
       "  Gene_X Gene_Y  Significant\n",
       "0   TYE7   CAT1          0.0"
      ]
     },
     "execution_count": 9,
     "metadata": {},
     "output_type": "execute_result"
    }
   ],
   "source": [
    "# load EPS average data\n",
    "pval_cutoff = 0.01 # significance cutoff; update the value as needed (0.01 or 0.005)\n",
    "eps_cutoff_pos = 0.5 # positive interaction eps cutoff; update the value as needed \n",
    "eps_cutoff_neg = -0.5 # negative interaction eps cutoff; update the value as needed \n",
    "\n",
    "eps_avg_cols = ['Gene_X', 'Gene_Y', 'Average_EPS_XY_EPS_YX']\n",
    "df_average = pd.read_excel(eps_path, sheet_name='Average', usecols=eps_avg_cols)\n",
    "\n",
    "significant_data = {'Gene_X': [], 'Gene_Y': [], 'Significant': []}\n",
    "df_pval_adj = df_pval_exp_vs_avg_actual_XY_YX\n",
    "for gene_x, gene_y, eps_avg in df_average.itertuples(index=False):\n",
    "    significant_data['Gene_X'].append(gene_x)\n",
    "    significant_data['Gene_Y'].append(gene_y)\n",
    "    \n",
    "    # get pvalue adjusted, check if below pval_cutoff and then check if EPS is positive or negative\n",
    "    try:\n",
    "        pval_adj = df_pval_adj[(df_pval_adj['Gene_X']==gene_x) & \n",
    "                               (df_pval_adj['Gene_Y']==gene_y)\n",
    "                              ]['P-value adj (exp_vs_average_XY_YX)'].values[0]\n",
    "        if pval_adj < pval_cutoff:\n",
    "            if eps_avg > eps_cutoff_pos:\n",
    "                significant_data['Significant'].append(1) # positive interaction\n",
    "            elif eps_avg < eps_cutoff_neg:\n",
    "                significant_data['Significant'].append(-1)  # negative interaction\n",
    "            else:\n",
    "                significant_data['Significant'].append(0)  # not significant\n",
    "        else:\n",
    "            significant_data['Significant'].append(0) # not significant\n",
    "    except IndexError: \n",
    "        significant_data['Significant'].append(np.nan) # missing EPS data\n",
    "\n",
    "# convert to dataframe\n",
    "df_significant = pd.DataFrame.from_dict(significant_data)\n",
    "print(f'df_significant: {df_significant.shape[0]}')\n",
    "df_significant[:1] # change the number to see more rows of data here"
   ]
  },
  {
   "cell_type": "markdown",
   "id": "d89ef8c1",
   "metadata": {},
   "source": [
    "### run t-test: actual_XY vs actual_YX"
   ]
  },
  {
   "cell_type": "code",
   "execution_count": 10,
   "id": "318b2f7d",
   "metadata": {},
   "outputs": [
    {
     "name": "stdout",
     "output_type": "stream",
     "text": [
      "df_pval_actual_XY_vs_YX: 391\n"
     ]
    },
    {
     "data": {
      "text/html": [
       "<div>\n",
       "<style scoped>\n",
       "    .dataframe tbody tr th:only-of-type {\n",
       "        vertical-align: middle;\n",
       "    }\n",
       "\n",
       "    .dataframe tbody tr th {\n",
       "        vertical-align: top;\n",
       "    }\n",
       "\n",
       "    .dataframe thead th {\n",
       "        text-align: right;\n",
       "    }\n",
       "</style>\n",
       "<table border=\"1\" class=\"dataframe\">\n",
       "  <thead>\n",
       "    <tr style=\"text-align: right;\">\n",
       "      <th></th>\n",
       "      <th>Gene_X</th>\n",
       "      <th>Gene_Y</th>\n",
       "      <th>P-value (actual_XY_vs_YX)</th>\n",
       "      <th>P-value adj (actual_XY_vs_YX)</th>\n",
       "    </tr>\n",
       "  </thead>\n",
       "  <tbody>\n",
       "    <tr>\n",
       "      <th>0</th>\n",
       "      <td>TYE7</td>\n",
       "      <td>CAT1</td>\n",
       "      <td>0.633691</td>\n",
       "      <td>0.739622</td>\n",
       "    </tr>\n",
       "  </tbody>\n",
       "</table>\n",
       "</div>"
      ],
      "text/plain": [
       "  Gene_X Gene_Y  P-value (actual_XY_vs_YX)  P-value adj (actual_XY_vs_YX)\n",
       "0   TYE7   CAT1                   0.633691                       0.739622"
      ]
     },
     "execution_count": 10,
     "metadata": {},
     "output_type": "execute_result"
    }
   ],
   "source": [
    "pval_data = {'Gene_X': [], 'Gene_Y': [], 'P-value (actual_XY_vs_YX)': []}\n",
    "for gene_x, gene_y, _, _, _, _, _, _ in data_actual_XY_vs_YX[0].itertuples(index=False):\n",
    "    gene_combo = (gene_x, gene_y)\n",
    "    values = genes_data[gene_combo]\n",
    "    A = np.array(values['Fitness_XY'])\n",
    "    B = np.array(values['Fitness_YX'])\n",
    "    ttest_res = ttest(A, B)\n",
    "    pval_data['Gene_X'].append(gene_combo[0])\n",
    "    pval_data['Gene_Y'].append(gene_combo[1])\n",
    "    pval_data['P-value (actual_XY_vs_YX)'].append(ttest_res.pvalue)\n",
    "    #print(f'{gene_combo} — p value: {ttest_res.pvalue}') # Uncomment to debug\n",
    "\n",
    "# convert to dataframe\n",
    "df_pval_actual_XY_vs_YX = pd.DataFrame.from_dict(pval_data)\n",
    "\n",
    "# get p-value adjusted using Benjamini and Hochberg method to correct for false discovery rate\n",
    "pvalues = df_pval_actual_XY_vs_YX['P-value (actual_XY_vs_YX)']\n",
    "pvalues_adjusted_out = fdrcorrection(pvalues, method='indep')\n",
    "pvalues_adjusted = pvalues_adjusted_out[1]\n",
    "df_pval_actual_XY_vs_YX['P-value adj (actual_XY_vs_YX)'] = pvalues_adjusted\n",
    "\n",
    "print(f'df_pval_actual_XY_vs_YX: {df_pval_actual_XY_vs_YX.shape[0]}')\n",
    "df_pval_actual_XY_vs_YX[:1] # change the number to see more rows of data here"
   ]
  },
  {
   "cell_type": "markdown",
   "id": "1a19a5b9",
   "metadata": {},
   "source": [
    "### combine all dataframes"
   ]
  },
  {
   "cell_type": "code",
   "execution_count": 11,
   "id": "7734628d",
   "metadata": {},
   "outputs": [
    {
     "data": {
      "text/html": [
       "<div>\n",
       "<style scoped>\n",
       "    .dataframe tbody tr th:only-of-type {\n",
       "        vertical-align: middle;\n",
       "    }\n",
       "\n",
       "    .dataframe tbody tr th {\n",
       "        vertical-align: top;\n",
       "    }\n",
       "\n",
       "    .dataframe thead th {\n",
       "        text-align: right;\n",
       "    }\n",
       "</style>\n",
       "<table border=\"1\" class=\"dataframe\">\n",
       "  <thead>\n",
       "    <tr style=\"text-align: right;\">\n",
       "      <th></th>\n",
       "      <th>Gene_X</th>\n",
       "      <th>Gene_Y</th>\n",
       "      <th>P-value (exp_vs_XY)</th>\n",
       "      <th>P-value adj (exp_vs_XY)</th>\n",
       "      <th>P-value (exp_vs_YX)</th>\n",
       "      <th>P-value adj (exp_vs_YX)</th>\n",
       "      <th>P-value (actual_XY_vs_YX)</th>\n",
       "      <th>P-value adj (actual_XY_vs_YX)</th>\n",
       "      <th>P-value (exp_vs_average_XY_YX)</th>\n",
       "      <th>P-value adj (exp_vs_average_XY_YX)</th>\n",
       "      <th>Significant</th>\n",
       "    </tr>\n",
       "  </thead>\n",
       "  <tbody>\n",
       "    <tr>\n",
       "      <th>0</th>\n",
       "      <td>TYE7</td>\n",
       "      <td>CAT1</td>\n",
       "      <td>0.584094</td>\n",
       "      <td>0.758274</td>\n",
       "      <td>0.788421</td>\n",
       "      <td>0.869664</td>\n",
       "      <td>0.633691</td>\n",
       "      <td>0.739622</td>\n",
       "      <td>0.570173</td>\n",
       "      <td>0.712187</td>\n",
       "      <td>0.0</td>\n",
       "    </tr>\n",
       "    <tr>\n",
       "      <th>1</th>\n",
       "      <td>YAK1</td>\n",
       "      <td>TYE7</td>\n",
       "      <td>0.861234</td>\n",
       "      <td>0.927760</td>\n",
       "      <td>0.484027</td>\n",
       "      <td>0.638591</td>\n",
       "      <td>0.467941</td>\n",
       "      <td>0.588311</td>\n",
       "      <td>0.556516</td>\n",
       "      <td>0.703339</td>\n",
       "      <td>0.0</td>\n",
       "    </tr>\n",
       "    <tr>\n",
       "      <th>2</th>\n",
       "      <td>HSP30</td>\n",
       "      <td>YAK1</td>\n",
       "      <td>0.191150</td>\n",
       "      <td>0.369414</td>\n",
       "      <td>NaN</td>\n",
       "      <td>NaN</td>\n",
       "      <td>NaN</td>\n",
       "      <td>NaN</td>\n",
       "      <td>0.191150</td>\n",
       "      <td>0.412521</td>\n",
       "      <td>0.0</td>\n",
       "    </tr>\n",
       "    <tr>\n",
       "      <th>3</th>\n",
       "      <td>HSP30</td>\n",
       "      <td>TYE7</td>\n",
       "      <td>0.169854</td>\n",
       "      <td>0.342362</td>\n",
       "      <td>0.787332</td>\n",
       "      <td>0.869664</td>\n",
       "      <td>0.019029</td>\n",
       "      <td>0.076706</td>\n",
       "      <td>0.267151</td>\n",
       "      <td>0.462855</td>\n",
       "      <td>0.0</td>\n",
       "    </tr>\n",
       "    <tr>\n",
       "      <th>4</th>\n",
       "      <td>HSP30</td>\n",
       "      <td>CAT1</td>\n",
       "      <td>0.049594</td>\n",
       "      <td>0.158181</td>\n",
       "      <td>0.118544</td>\n",
       "      <td>0.285463</td>\n",
       "      <td>0.174877</td>\n",
       "      <td>0.315100</td>\n",
       "      <td>0.046421</td>\n",
       "      <td>0.194837</td>\n",
       "      <td>0.0</td>\n",
       "    </tr>\n",
       "    <tr>\n",
       "      <th>...</th>\n",
       "      <td>...</td>\n",
       "      <td>...</td>\n",
       "      <td>...</td>\n",
       "      <td>...</td>\n",
       "      <td>...</td>\n",
       "      <td>...</td>\n",
       "      <td>...</td>\n",
       "      <td>...</td>\n",
       "      <td>...</td>\n",
       "      <td>...</td>\n",
       "      <td>...</td>\n",
       "    </tr>\n",
       "    <tr>\n",
       "      <th>625</th>\n",
       "      <td>EFG1</td>\n",
       "      <td>YAK1</td>\n",
       "      <td>NaN</td>\n",
       "      <td>NaN</td>\n",
       "      <td>NaN</td>\n",
       "      <td>NaN</td>\n",
       "      <td>NaN</td>\n",
       "      <td>NaN</td>\n",
       "      <td>NaN</td>\n",
       "      <td>NaN</td>\n",
       "      <td>NaN</td>\n",
       "    </tr>\n",
       "    <tr>\n",
       "      <th>626</th>\n",
       "      <td>EFG1</td>\n",
       "      <td>CAT1</td>\n",
       "      <td>NaN</td>\n",
       "      <td>NaN</td>\n",
       "      <td>NaN</td>\n",
       "      <td>NaN</td>\n",
       "      <td>NaN</td>\n",
       "      <td>NaN</td>\n",
       "      <td>NaN</td>\n",
       "      <td>NaN</td>\n",
       "      <td>NaN</td>\n",
       "    </tr>\n",
       "    <tr>\n",
       "      <th>627</th>\n",
       "      <td>TRX1</td>\n",
       "      <td>C3_00570C_A</td>\n",
       "      <td>NaN</td>\n",
       "      <td>NaN</td>\n",
       "      <td>NaN</td>\n",
       "      <td>NaN</td>\n",
       "      <td>NaN</td>\n",
       "      <td>NaN</td>\n",
       "      <td>NaN</td>\n",
       "      <td>NaN</td>\n",
       "      <td>NaN</td>\n",
       "    </tr>\n",
       "    <tr>\n",
       "      <th>628</th>\n",
       "      <td>TRX1</td>\n",
       "      <td>C2_10540W_A</td>\n",
       "      <td>NaN</td>\n",
       "      <td>NaN</td>\n",
       "      <td>NaN</td>\n",
       "      <td>NaN</td>\n",
       "      <td>NaN</td>\n",
       "      <td>NaN</td>\n",
       "      <td>NaN</td>\n",
       "      <td>NaN</td>\n",
       "      <td>NaN</td>\n",
       "    </tr>\n",
       "    <tr>\n",
       "      <th>629</th>\n",
       "      <td>TRX1</td>\n",
       "      <td>HSP30</td>\n",
       "      <td>NaN</td>\n",
       "      <td>NaN</td>\n",
       "      <td>NaN</td>\n",
       "      <td>NaN</td>\n",
       "      <td>NaN</td>\n",
       "      <td>NaN</td>\n",
       "      <td>NaN</td>\n",
       "      <td>NaN</td>\n",
       "      <td>NaN</td>\n",
       "    </tr>\n",
       "  </tbody>\n",
       "</table>\n",
       "<p>630 rows × 11 columns</p>\n",
       "</div>"
      ],
      "text/plain": [
       "    Gene_X       Gene_Y  P-value (exp_vs_XY)  P-value adj (exp_vs_XY)  \\\n",
       "0     TYE7         CAT1             0.584094                 0.758274   \n",
       "1     YAK1         TYE7             0.861234                 0.927760   \n",
       "2    HSP30         YAK1             0.191150                 0.369414   \n",
       "3    HSP30         TYE7             0.169854                 0.342362   \n",
       "4    HSP30         CAT1             0.049594                 0.158181   \n",
       "..     ...          ...                  ...                      ...   \n",
       "625   EFG1         YAK1                  NaN                      NaN   \n",
       "626   EFG1         CAT1                  NaN                      NaN   \n",
       "627   TRX1  C3_00570C_A                  NaN                      NaN   \n",
       "628   TRX1  C2_10540W_A                  NaN                      NaN   \n",
       "629   TRX1        HSP30                  NaN                      NaN   \n",
       "\n",
       "     P-value (exp_vs_YX)  P-value adj (exp_vs_YX)  P-value (actual_XY_vs_YX)  \\\n",
       "0               0.788421                 0.869664                   0.633691   \n",
       "1               0.484027                 0.638591                   0.467941   \n",
       "2                    NaN                      NaN                        NaN   \n",
       "3               0.787332                 0.869664                   0.019029   \n",
       "4               0.118544                 0.285463                   0.174877   \n",
       "..                   ...                      ...                        ...   \n",
       "625                  NaN                      NaN                        NaN   \n",
       "626                  NaN                      NaN                        NaN   \n",
       "627                  NaN                      NaN                        NaN   \n",
       "628                  NaN                      NaN                        NaN   \n",
       "629                  NaN                      NaN                        NaN   \n",
       "\n",
       "     P-value adj (actual_XY_vs_YX)  P-value (exp_vs_average_XY_YX)  \\\n",
       "0                         0.739622                        0.570173   \n",
       "1                         0.588311                        0.556516   \n",
       "2                              NaN                        0.191150   \n",
       "3                         0.076706                        0.267151   \n",
       "4                         0.315100                        0.046421   \n",
       "..                             ...                             ...   \n",
       "625                            NaN                             NaN   \n",
       "626                            NaN                             NaN   \n",
       "627                            NaN                             NaN   \n",
       "628                            NaN                             NaN   \n",
       "629                            NaN                             NaN   \n",
       "\n",
       "     P-value adj (exp_vs_average_XY_YX)  Significant  \n",
       "0                              0.712187          0.0  \n",
       "1                              0.703339          0.0  \n",
       "2                              0.412521          0.0  \n",
       "3                              0.462855          0.0  \n",
       "4                              0.194837          0.0  \n",
       "..                                  ...          ...  \n",
       "625                                 NaN          NaN  \n",
       "626                                 NaN          NaN  \n",
       "627                                 NaN          NaN  \n",
       "628                                 NaN          NaN  \n",
       "629                                 NaN          NaN  \n",
       "\n",
       "[630 rows x 11 columns]"
      ]
     },
     "execution_count": 11,
     "metadata": {},
     "output_type": "execute_result"
    }
   ],
   "source": [
    "df_pval_all = pd.merge(df_pval_exp_vs_actual_XY, df_pval_exp_vs_actual_YX, how='outer', on=['Gene_X', 'Gene_Y'])\n",
    "df_pval_all = pd.merge(df_pval_all, df_pval_actual_XY_vs_YX, how='outer', on=['Gene_X', 'Gene_Y'])\n",
    "df_pval_all = pd.merge(df_pval_all, df_pval_exp_vs_avg_actual_XY_YX, how='outer', on=['Gene_X', 'Gene_Y'])\n",
    "df_pval_all = pd.merge(df_pval_all, df_significant, how='outer', on=['Gene_X', 'Gene_Y'])\n",
    "df_pval_all.to_csv(outpath_compiled, index=False)\n",
    "df_pval_all"
   ]
  },
  {
   "cell_type": "code",
   "execution_count": 12,
   "id": "38cb370c",
   "metadata": {},
   "outputs": [
    {
     "name": "stdout",
     "output_type": "stream",
     "text": [
      "ALL DONE\n"
     ]
    }
   ],
   "source": [
    "print(\"ALL DONE\")"
   ]
  }
 ],
 "metadata": {
  "authors": [
   {
    "name": "Myra Paz Masinas"
   }
  ],
  "kernelspec": {
   "display_name": "Python 3 (ipykernel)",
   "language": "python",
   "name": "python3"
  },
  "language_info": {
   "codemirror_mode": {
    "name": "ipython",
    "version": 3
   },
   "file_extension": ".py",
   "mimetype": "text/x-python",
   "name": "python",
   "nbconvert_exporter": "python",
   "pygments_lexer": "ipython3",
   "version": "3.11.5"
  },
  "title": "Run t-test"
 },
 "nbformat": 4,
 "nbformat_minor": 5
}
